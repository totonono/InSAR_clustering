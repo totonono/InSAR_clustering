{
 "cells": [
  {
   "cell_type": "markdown",
   "metadata": {},
   "source": [
    "# Stage 1: Preparing Inputs"
   ]
  },
  {
   "cell_type": "code",
   "execution_count": null,
   "metadata": {},
   "outputs": [],
   "source": [
    "#import libraries\n",
    "import pandas as pd\n",
    "import numpy as np\n",
    "from numpy import percentile\n",
    "from numpy import unique\n",
    "from numpy import where\n",
    "import matplotlib as mpl\n",
    "from matplotlib import pyplot\n",
    "from matplotlib.pyplot import figure\n",
    "import matplotlib.pyplot as plt\n",
    "import seaborn as sns\n",
    "import seaborn as sns; sns.set(font_scale=1.2) \n",
    "from sklearn.ensemble import IsolationForest\n",
    "from sklearn.cluster import MiniBatchKMeans\n",
    "from sklearn import metrics"
   ]
  },
  {
   "cell_type": "code",
   "execution_count": null,
   "metadata": {},
   "outputs": [],
   "source": [
    "# load data\n",
    "AD6=pd.read_csv(\"C:/599_Research/FINAL_RESEARCH_and_PPT/THESIS_SUBMISSION/APPENDIX/2_SINGLE ATTRIBUTE SCRIPTS/DATA/AD6.csv\")"
   ]
  },
  {
   "cell_type": "markdown",
   "metadata": {},
   "source": [
    "# Stage 2 : Pre-processing & Execution"
   ]
  },
  {
   "cell_type": "markdown",
   "metadata": {},
   "source": [
    "# Pre-Processing"
   ]
  },
  {
   "cell_type": "code",
   "execution_count": null,
   "metadata": {},
   "outputs": [],
   "source": [
    "#inspect - example on df asc south\n",
    "AD6.head()\n",
    "AD6.describe()"
   ]
  },
  {
   "cell_type": "code",
   "execution_count": null,
   "metadata": {},
   "outputs": [],
   "source": [
    "#Visualize the data for the CUMULATIVE (OR ANY OTHER ATTRIBUTE), changing the hue allows you to visualize any attribute\n",
    "sns.set(style=\"whitegrid\")\n",
    "plt.scatter(AD6['LONG'],AD6['LAT'], c= AD6['D20200131'], s=1)"
   ]
  },
  {
   "cell_type": "code",
   "execution_count": null,
   "metadata": {},
   "outputs": [],
   "source": [
    "###specific to GMM!\n",
    "#GMM\n",
    "#the Akaike information criterion (AIC) or the Bayesian information criterion (BIC).\n",
    "X = np.array(list(zip(AD6['D20190125'],AD6['D20200131'])))\n",
    "n_components = np.arange(1, 21)\n",
    "models = [GMM(n, covariance_type='full', random_state=0).fit(X) for n in n_components]\n",
    "plt.plot(n_components, [m.bic(X) for m in models], label='BIC')\n",
    "plt.plot(n_components, [m.aic(X) for m in models], label='AIC')\n",
    "plt.legend(loc='best')\n",
    "plt.xlabel('n_components');"
   ]
  },
  {
   "cell_type": "code",
   "execution_count": null,
   "metadata": {},
   "outputs": [],
   "source": [
    "def SelBest(arr:list, X:int)->list:\n",
    "    '''\n",
    "    returns the set of X configurations with shorter distance\n",
    "    '''\n",
    "    dx=np.argsort(arr)[:X]\n",
    "    return arr[dx]"
   ]
  },
  {
   "cell_type": "code",
   "execution_count": null,
   "metadata": {},
   "outputs": [],
   "source": [
    "#Silhouette Score\n",
    "X = np.array(list(zip(AD6['D20190125'],AD6['D20200131'])))\n",
    "n_clusters=np.arange(2, 20)\n",
    "sils=[]\n",
    "sils_err=[]\n",
    "iterations=20\n",
    "for n in n_clusters:\n",
    "    tmp_sil=[]\n",
    "    for _ in range(iterations):\n",
    "        gmm=GMM(n, n_init=2).fit(X) \n",
    "        labels=gmm.predict(X)\n",
    "        sil=metrics.silhouette_score(X, labels, metric='euclidean')\n",
    "        tmp_sil.append(sil)\n",
    "    val=np.mean(SelBest(np.array(tmp_sil), int(iterations/5)))\n",
    "    err=np.std(tmp_sil)\n",
    "    sils.append(val)\n",
    "    sils_err.append(err)\n",
    "    \n",
    "plt.errorbar(n_clusters, sils, yerr=sils_err)\n",
    "plt.title(\"Silhouette Scores\", fontsize=20)\n",
    "plt.xticks(n_clusters)\n",
    "plt.xlabel(\"N. of clusters\")\n",
    "plt.ylabel(\"Score\")"
   ]
  },
  {
   "cell_type": "markdown",
   "metadata": {},
   "source": [
    "# Algorithm Execution¶"
   ]
  },
  {
   "cell_type": "code",
   "execution_count": null,
   "metadata": {},
   "outputs": [],
   "source": [
    "#MiniBatch_Kmeans\n",
    "# define dataset\n",
    "X = np.array(list(zip(AD6['D20190125'],AD6['D20200131'])))\n",
    "# define the model\n",
    "MiniBatch_model = MiniBatchKMeans(n_clusters=6)\n",
    "# fit the model\n",
    "MiniBatch_model.fit(X)\n",
    "# assign a cluster to each example\n",
    "yhat = MiniBatch_model.predict(X)\n",
    "# retrieve unique clusters\n",
    "clusters = unique(yhat)\n",
    "\n",
    "\n",
    "import timeit\n",
    "\n",
    "start = timeit.default_timer()\n",
    "\n",
    "# All the program statements\n",
    "stop = timeit.default_timer()\n",
    "execution_time = stop - start\n",
    "\n",
    "print(\"Program Executed in \"+str(execution_time)) # It returns time in seconds\n",
    "\n",
    "#map the labels to colors\n",
    "c= ['b', 'r', 'y', 'g', 'c', 'm', 'e','f', 'u', 'd', 'a', 'h']\n",
    "colors = [c[i] for i in yhat]\n",
    "\n",
    "#Plot clusters with coordinates\n",
    "figure(num=None, figsize=(10, 8), dpi=100, facecolor='w', edgecolor='k')\n",
    "pyplot.scatter(AD6['LONG'], AD6['LAT'], c=yhat, s=10, cmap='viridis')\n",
    "plt.savefig('AD6_MINIBATCH_6.png')"
   ]
  },
  {
   "cell_type": "markdown",
   "metadata": {},
   "source": [
    "# Stage 3: Outputs and Assessment"
   ]
  },
  {
   "cell_type": "code",
   "execution_count": null,
   "metadata": {},
   "outputs": [],
   "source": [
    "#MINIBATCH kmeans\n",
    "# Number of clusters in labels, ignoring noise if present.\n",
    "labels = MiniBatch_model.labels_\n",
    "n_clusters_ = len(set(labels)) - (1 if -1 in labels else 0)\n",
    "n_noise_ = list(labels).count(-1)\n",
    "print('Estimated number of clusters: %d' % n_clusters_)\n",
    "print('Estimated number of noise points: %d' % n_noise_)\n",
    "\n",
    "print(\"Silhouette Coefficient: %0.3f\"\n",
    "      % metrics.silhouette_score(X, labels, metric='sqeuclidean'))\n",
    "#Calinski-Harabasz Index\n",
    "print(\"Calinski Harabasz Score: %0.3f\"\n",
    "      % metrics.calinski_harabasz_score(X, labels))\n",
    "#Davies Bouldin Index\n",
    "print(\"Davies Bouldin Index: %0.3f\"\n",
    "      % metrics.davies_bouldin_score(X, labels))\n",
    "\n",
    "cluster_map = pd.DataFrame()\n",
    "cluster_map['data_index'] = AD6.index.values\n",
    "cluster_map['cluster'] = MiniBatch_model.labels_\n",
    "\n",
    "cluster_map[cluster_map.cluster == 4]\n",
    "\n",
    "# create scatter plot for samples from each cluster\n",
    "for cluster in clusters:\n",
    "\t# get row indexes for samples with this cluster\n",
    "\trow_ix = where(yhat == cluster)\n",
    "\t# create scatter of these samples\n",
    "\tpyplot.scatter(X[row_ix, 0], X[row_ix, 1])\n",
    "# show the plot\n",
    "pyplot.show()"
   ]
  },
  {
   "cell_type": "markdown",
   "metadata": {},
   "source": [
    "# STAGE 4: EXPORT TO LAYER FOR ARCPRO: CSV TO SHP¶"
   ]
  },
  {
   "cell_type": "code",
   "execution_count": null,
   "metadata": {},
   "outputs": [],
   "source": [
    "data.to_csv('C:/599_Research/ARTIFICIAL/Permian/SA_SHP_OUTPUTS/asc_south_kmeans_PERMIAN_VEL_6_withlabels.csv')"
   ]
  },
  {
   "cell_type": "code",
   "execution_count": null,
   "metadata": {},
   "outputs": [],
   "source": [
    "# MakeXYLayer.py\n",
    "# Description: Creates an XY layer and exports it to a layer file\n",
    "\n",
    "# import system modules \n",
    "import arcpy\n",
    "from arcpy import env\n",
    "\n",
    "# Set environment settings\n",
    "env.workspace = \"C:/599_Research/ARTIFICIAL/Permian/SA_SHP_OUTPUTS\"\n",
    " \n",
    "# Set the local variables\n",
    "in_Table = \"asc_south_kmeans_PERMIAN_VEL_6_withlabels.csv\"\n",
    "x_coords = \"LONG\"\n",
    "y_coords = \"LAT\"\n",
    "z_coords = \"HEIGHT\"\n",
    "out_Layer = \"asc_south_kmeans_PERMIAN_VEL_6_withlabels_layer\"\n",
    "saved_Layer = r\"C:/599_Research/ARTIFICIAL/Permian/SA_SHP_OUTPUTS/asc_south_kmeans_PERMIAN_VEL_6_MLOUTPUT.shp\"\n",
    " \n",
    "# Set the spatial reference\n",
    "spRef = arcpy.SpatialReference(4326)\n",
    " \n",
    "# Make the XY event layer...\n",
    "arcpy.MakeXYEventLayer_management(in_Table, x_coords, y_coords, out_Layer, spRef, z_coords)\n",
    " \n",
    "# Save to a layer file\n",
    "arcpy.SaveToLayerFile_management(out_Layer, saved_Layer)"
   ]
  }
 ],
 "metadata": {
  "kernelspec": {
   "display_name": "Python 3",
   "language": "python",
   "name": "python3"
  },
  "language_info": {
   "codemirror_mode": {
    "name": "ipython",
    "version": 3
   },
   "file_extension": ".py",
   "mimetype": "text/x-python",
   "name": "python",
   "nbconvert_exporter": "python",
   "pygments_lexer": "ipython3",
   "version": "3.6.11"
  }
 },
 "nbformat": 4,
 "nbformat_minor": 4
}
